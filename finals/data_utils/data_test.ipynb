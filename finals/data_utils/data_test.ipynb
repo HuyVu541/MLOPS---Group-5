{
 "cells": [
  {
   "cell_type": "code",
   "execution_count": 9,
   "id": "5e15c800",
   "metadata": {},
   "outputs": [],
   "source": [
    "from vnstock import Vnstock"
   ]
  },
  {
   "cell_type": "code",
   "execution_count": 10,
   "id": "1e0d6681",
   "metadata": {},
   "outputs": [],
   "source": [
    "stock = Vnstock().stock(symbol='FPT', source='VCI')"
   ]
  },
  {
   "cell_type": "code",
   "execution_count": 19,
   "id": "84611b8d",
   "metadata": {},
   "outputs": [],
   "source": [
    "df1 = stock.trading.price_board(['FPT'])"
   ]
  },
  {
   "cell_type": "code",
   "execution_count": 21,
   "id": "36f86397",
   "metadata": {},
   "outputs": [
    {
     "data": {
      "application/vnd.microsoft.datawrangler.viewer.v0+json": {
       "columns": [
        {
         "name": "index",
         "rawType": "int64",
         "type": "integer"
        },
        {
         "name": "('listing', 'symbol')",
         "rawType": "object",
         "type": "string"
        },
        {
         "name": "('listing', 'ceiling')",
         "rawType": "int64",
         "type": "integer"
        },
        {
         "name": "('listing', 'floor')",
         "rawType": "int64",
         "type": "integer"
        },
        {
         "name": "('listing', 'ref_price')",
         "rawType": "int64",
         "type": "integer"
        },
        {
         "name": "('listing', 'stock_type')",
         "rawType": "object",
         "type": "string"
        },
        {
         "name": "('listing', 'exchange')",
         "rawType": "object",
         "type": "string"
        },
        {
         "name": "('listing', 'trading_status')",
         "rawType": "object",
         "type": "string"
        },
        {
         "name": "('listing', 'security_status')",
         "rawType": "object",
         "type": "string"
        },
        {
         "name": "('listing', 'last_trading_date')",
         "rawType": "object",
         "type": "unknown"
        },
        {
         "name": "('listing', 'listed_share')",
         "rawType": "int64",
         "type": "integer"
        },
        {
         "name": "('listing', 'sending_time')",
         "rawType": "object",
         "type": "string"
        },
        {
         "name": "('listing', 'type')",
         "rawType": "object",
         "type": "string"
        },
        {
         "name": "('listing', 'organ_name')",
         "rawType": "object",
         "type": "string"
        },
        {
         "name": "('listing', 'mapping_symbol')",
         "rawType": "object",
         "type": "unknown"
        },
        {
         "name": "('listing', 'product_grp_id')",
         "rawType": "object",
         "type": "string"
        },
        {
         "name": "('listing', 'partition')",
         "rawType": "int64",
         "type": "integer"
        },
        {
         "name": "('listing', 'index_type')",
         "rawType": "object",
         "type": "unknown"
        },
        {
         "name": "('listing', 'trading_date')",
         "rawType": "object",
         "type": "string"
        },
        {
         "name": "('listing', 'lst_trading_status')",
         "rawType": "object",
         "type": "unknown"
        },
        {
         "name": "('bid_ask', 'transaction_time')",
         "rawType": "object",
         "type": "string"
        },
        {
         "name": "('match', 'accumulated_value')",
         "rawType": "float64",
         "type": "float"
        },
        {
         "name": "('match', 'accumulated_volume')",
         "rawType": "int64",
         "type": "integer"
        },
        {
         "name": "('match', 'accumulated_value_g1')",
         "rawType": "float64",
         "type": "float"
        },
        {
         "name": "('match', 'accumulated_volume_g1')",
         "rawType": "int64",
         "type": "integer"
        },
        {
         "name": "('match', 'avg_match_price')",
         "rawType": "float64",
         "type": "float"
        },
        {
         "name": "('match', 'current_room')",
         "rawType": "int64",
         "type": "integer"
        },
        {
         "name": "('match', 'foreign_buy_volume')",
         "rawType": "int64",
         "type": "integer"
        },
        {
         "name": "('match', 'foreign_sell_volume')",
         "rawType": "int64",
         "type": "integer"
        },
        {
         "name": "('match', 'foreign_buy_value')",
         "rawType": "int64",
         "type": "integer"
        },
        {
         "name": "('match', 'foreign_sell_value')",
         "rawType": "int64",
         "type": "integer"
        },
        {
         "name": "('match', 'highest')",
         "rawType": "int64",
         "type": "integer"
        },
        {
         "name": "('match', 'lowest')",
         "rawType": "int64",
         "type": "integer"
        },
        {
         "name": "('match', 'match_price')",
         "rawType": "int64",
         "type": "integer"
        },
        {
         "name": "('match', 'match_type')",
         "rawType": "object",
         "type": "string"
        },
        {
         "name": "('match', 'match_vol')",
         "rawType": "int64",
         "type": "integer"
        },
        {
         "name": "('match', 'sending_time')",
         "rawType": "object",
         "type": "string"
        },
        {
         "name": "('match', 'total_room')",
         "rawType": "int64",
         "type": "integer"
        },
        {
         "name": "('match', 'total_buy_orders')",
         "rawType": "int64",
         "type": "integer"
        },
        {
         "name": "('match', 'total_sell_orders')",
         "rawType": "int64",
         "type": "integer"
        },
        {
         "name": "('match', 'bid_count')",
         "rawType": "int64",
         "type": "integer"
        },
        {
         "name": "('match', 'ask_count')",
         "rawType": "int64",
         "type": "integer"
        },
        {
         "name": "('match', 'underlying')",
         "rawType": "object",
         "type": "unknown"
        },
        {
         "name": "('match', 'open_interest')",
         "rawType": "object",
         "type": "unknown"
        },
        {
         "name": "('match', 'stock_type')",
         "rawType": "object",
         "type": "string"
        },
        {
         "name": "('match', 'partition')",
         "rawType": "int64",
         "type": "integer"
        },
        {
         "name": "('match', 'is_match_price')",
         "rawType": "bool",
         "type": "boolean"
        },
        {
         "name": "('match', 'ceiling_price')",
         "rawType": "int64",
         "type": "integer"
        },
        {
         "name": "('match', 'floor_price')",
         "rawType": "int64",
         "type": "integer"
        },
        {
         "name": "('match', 'reference_price')",
         "rawType": "int64",
         "type": "integer"
        },
        {
         "name": "('bid_ask', 'bid_1_price')",
         "rawType": "int64",
         "type": "integer"
        },
        {
         "name": "('bid_ask', 'bid_1_volume')",
         "rawType": "int64",
         "type": "integer"
        },
        {
         "name": "('bid_ask', 'bid_2_price')",
         "rawType": "int64",
         "type": "integer"
        },
        {
         "name": "('bid_ask', 'bid_2_volume')",
         "rawType": "int64",
         "type": "integer"
        },
        {
         "name": "('bid_ask', 'bid_3_price')",
         "rawType": "int64",
         "type": "integer"
        },
        {
         "name": "('bid_ask', 'bid_3_volume')",
         "rawType": "int64",
         "type": "integer"
        },
        {
         "name": "('bid_ask', 'ask_1_price')",
         "rawType": "int64",
         "type": "integer"
        },
        {
         "name": "('bid_ask', 'ask_1_volume')",
         "rawType": "int64",
         "type": "integer"
        },
        {
         "name": "('bid_ask', 'ask_2_price')",
         "rawType": "int64",
         "type": "integer"
        },
        {
         "name": "('bid_ask', 'ask_2_volume')",
         "rawType": "int64",
         "type": "integer"
        },
        {
         "name": "('bid_ask', 'ask_3_price')",
         "rawType": "int64",
         "type": "integer"
        },
        {
         "name": "('bid_ask', 'ask_3_volume')",
         "rawType": "int64",
         "type": "integer"
        }
       ],
       "conversionMethod": "pd.DataFrame",
       "ref": "dd699bbd-5e3f-4276-bd78-1594e1685511",
       "rows": [
        [
         "0",
         "FPT",
         "133700",
         "116300",
         "125000",
         "STOCK",
         "HSX",
         "TRADING_ACTIVATED",
         "N",
         null,
         "1471069183",
         "20250516 01:43:12.967",
         "STOCK",
         "Công ty Cổ phần FPT",
         null,
         "STO",
         "3",
         null,
         "2025-05-16",
         null,
         "074500013",
         "978973.77",
         "8012200",
         "978973.77",
         "8012200",
         "122185.38853248795",
         "107923072",
         "1137632",
         "3006809",
         "138877944800",
         "367175263400",
         "124700",
         "120900",
         "121000",
         "s",
         "500",
         "20250516 07:45:02.714",
         "720823899",
         "0",
         "0",
         "0",
         "0",
         null,
         null,
         "STOCK",
         "3",
         "False",
         "133700",
         "116300",
         "125000",
         "121000",
         "42500",
         "120900",
         "92500",
         "120800",
         "21000",
         "121100",
         "11100",
         "121400",
         "7500",
         "121500",
         "14800"
        ]
       ],
       "shape": {
        "columns": 61,
        "rows": 1
       }
      },
      "text/html": [
       "<div>\n",
       "<style scoped>\n",
       "    .dataframe tbody tr th:only-of-type {\n",
       "        vertical-align: middle;\n",
       "    }\n",
       "\n",
       "    .dataframe tbody tr th {\n",
       "        vertical-align: top;\n",
       "    }\n",
       "\n",
       "    .dataframe thead tr th {\n",
       "        text-align: left;\n",
       "    }\n",
       "</style>\n",
       "<table border=\"1\" class=\"dataframe\">\n",
       "  <thead>\n",
       "    <tr>\n",
       "      <th></th>\n",
       "      <th colspan=\"10\" halign=\"left\">listing</th>\n",
       "      <th>...</th>\n",
       "      <th colspan=\"10\" halign=\"left\">bid_ask</th>\n",
       "    </tr>\n",
       "    <tr>\n",
       "      <th></th>\n",
       "      <th>symbol</th>\n",
       "      <th>ceiling</th>\n",
       "      <th>floor</th>\n",
       "      <th>ref_price</th>\n",
       "      <th>stock_type</th>\n",
       "      <th>exchange</th>\n",
       "      <th>trading_status</th>\n",
       "      <th>security_status</th>\n",
       "      <th>last_trading_date</th>\n",
       "      <th>listed_share</th>\n",
       "      <th>...</th>\n",
       "      <th>bid_2_price</th>\n",
       "      <th>bid_2_volume</th>\n",
       "      <th>bid_3_price</th>\n",
       "      <th>bid_3_volume</th>\n",
       "      <th>ask_1_price</th>\n",
       "      <th>ask_1_volume</th>\n",
       "      <th>ask_2_price</th>\n",
       "      <th>ask_2_volume</th>\n",
       "      <th>ask_3_price</th>\n",
       "      <th>ask_3_volume</th>\n",
       "    </tr>\n",
       "  </thead>\n",
       "  <tbody>\n",
       "    <tr>\n",
       "      <th>0</th>\n",
       "      <td>FPT</td>\n",
       "      <td>133700</td>\n",
       "      <td>116300</td>\n",
       "      <td>125000</td>\n",
       "      <td>STOCK</td>\n",
       "      <td>HSX</td>\n",
       "      <td>TRADING_ACTIVATED</td>\n",
       "      <td>N</td>\n",
       "      <td>None</td>\n",
       "      <td>1471069183</td>\n",
       "      <td>...</td>\n",
       "      <td>120900</td>\n",
       "      <td>92500</td>\n",
       "      <td>120800</td>\n",
       "      <td>21000</td>\n",
       "      <td>121100</td>\n",
       "      <td>11100</td>\n",
       "      <td>121400</td>\n",
       "      <td>7500</td>\n",
       "      <td>121500</td>\n",
       "      <td>14800</td>\n",
       "    </tr>\n",
       "  </tbody>\n",
       "</table>\n",
       "<p>1 rows × 61 columns</p>\n",
       "</div>"
      ],
      "text/plain": [
       "  listing                                                                   \\\n",
       "   symbol ceiling   floor ref_price stock_type exchange     trading_status   \n",
       "0     FPT  133700  116300    125000      STOCK      HSX  TRADING_ACTIVATED   \n",
       "\n",
       "                                                  ...     bid_ask  \\\n",
       "  security_status last_trading_date listed_share  ... bid_2_price   \n",
       "0               N              None   1471069183  ...      120900   \n",
       "\n",
       "                                                                              \\\n",
       "  bid_2_volume bid_3_price bid_3_volume ask_1_price ask_1_volume ask_2_price   \n",
       "0        92500      120800        21000      121100        11100      121400   \n",
       "\n",
       "                                         \n",
       "  ask_2_volume ask_3_price ask_3_volume  \n",
       "0         7500      121500        14800  \n",
       "\n",
       "[1 rows x 61 columns]"
      ]
     },
     "execution_count": 21,
     "metadata": {},
     "output_type": "execute_result"
    }
   ],
   "source": [
    "df1"
   ]
  },
  {
   "cell_type": "code",
   "execution_count": null,
   "id": "20ea4019",
   "metadata": {},
   "outputs": [],
   "source": [
    "expected_columns = ['Time', 'listing_symbol', 'listing_ceiling', 'listing_floor',\n",
    "       'listing_ref_price', 'listing_stock_type', 'listing_exchange',\n",
    "       'listing_trading_status', 'listing_security_status',\n",
    "       'listing_last_trading_date', 'listing_listed_share',\n",
    "       'listing_sending_time', 'listing_type', 'listing_organ_name',\n",
    "       'listing_mapping_symbol', 'listing_product_grp_id', 'listing_partition',\n",
    "       'listing_index_type', 'listing_trading_date',\n",
    "       'listing_lst_trading_status', 'bid_ask_transaction_time',\n",
    "       'match_accumulated_value', 'match_accumulated_volume',\n",
    "       'match_accumulated_value_g1', 'match_accumulated_volume_g1',\n",
    "       'match_avg_match_price', 'match_current_room',\n",
    "       'match_foreign_buy_volume', 'match_foreign_sell_volume',\n",
    "       'match_foreign_buy_value', 'match_foreign_sell_value', 'match_highest',\n",
    "       'match_lowest', 'match_match_price', 'match_match_type',\n",
    "       'match_match_vol', 'match_sending_time', 'match_total_room',\n",
    "       'match_total_buy_orders', 'match_total_sell_orders', 'match_bid_count',\n",
    "       'match_ask_count', 'match_underlying', 'match_open_interest',\n",
    "       'match_stock_type', 'match_partition', 'match_is_match_price',\n",
    "       'match_ceiling_price', 'match_floor_price', 'match_reference_price',\n",
    "       'bid_ask_bid_1_price', 'bid_ask_bid_1_volume', 'bid_ask_bid_2_price',\n",
    "       'bid_ask_bid_2_volume', 'bid_ask_bid_3_price', 'bid_ask_bid_3_volume',\n",
    "       'bid_ask_ask_1_price', 'bid_ask_ask_1_volume', 'bid_ask_ask_2_price',\n",
    "       'bid_ask_ask_2_volume', 'bid_ask_ask_3_price', 'bid_ask_ask_3_volume']"
   ]
  },
  {
   "cell_type": "code",
   "execution_count": 23,
   "id": "dfd87899",
   "metadata": {},
   "outputs": [
    {
     "data": {
      "text/plain": [
       "42"
      ]
     },
     "execution_count": 23,
     "metadata": {},
     "output_type": "execute_result"
    }
   ],
   "source": [
    "len(expected_columns)"
   ]
  },
  {
   "cell_type": "code",
   "execution_count": 24,
   "id": "f93a4dde",
   "metadata": {},
   "outputs": [],
   "source": [
    "import pandas as pd"
   ]
  },
  {
   "cell_type": "code",
   "execution_count": 28,
   "id": "05f184dd",
   "metadata": {},
   "outputs": [],
   "source": [
    "df = pd.read_excel('Quote.xlsx', sheet_name='Sheet4')"
   ]
  },
  {
   "cell_type": "code",
   "execution_count": 30,
   "id": "8dbbd241",
   "metadata": {},
   "outputs": [
    {
     "data": {
      "text/plain": [
       "Index(['Time', 'listing_symbol', 'listing_ceiling', 'listing_floor',\n",
       "       'listing_ref_price', 'listing_stock_type', 'listing_exchange',\n",
       "       'listing_trading_status', 'listing_security_status',\n",
       "       'listing_last_trading_date', 'listing_listed_share',\n",
       "       'listing_sending_time', 'listing_type', 'listing_organ_name',\n",
       "       'listing_mapping_symbol', 'listing_product_grp_id', 'listing_partition',\n",
       "       'listing_index_type', 'listing_trading_date',\n",
       "       'listing_lst_trading_status', 'bid_ask_transaction_time',\n",
       "       'match_accumulated_value', 'match_accumulated_volume',\n",
       "       'match_accumulated_value_g1', 'match_accumulated_volume_g1',\n",
       "       'match_avg_match_price', 'match_current_room',\n",
       "       'match_foreign_buy_volume', 'match_foreign_sell_volume',\n",
       "       'match_foreign_buy_value', 'match_foreign_sell_value', 'match_highest',\n",
       "       'match_lowest', 'match_match_price', 'match_match_type',\n",
       "       'match_match_vol', 'match_sending_time', 'match_total_room',\n",
       "       'match_total_buy_orders', 'match_total_sell_orders', 'match_bid_count',\n",
       "       'match_ask_count', 'match_underlying', 'match_open_interest',\n",
       "       'match_stock_type', 'match_partition', 'match_is_match_price',\n",
       "       'match_ceiling_price', 'match_floor_price', 'match_reference_price',\n",
       "       'bid_ask_bid_1_price', 'bid_ask_bid_1_volume', 'bid_ask_bid_2_price',\n",
       "       'bid_ask_bid_2_volume', 'bid_ask_bid_3_price', 'bid_ask_bid_3_volume',\n",
       "       'bid_ask_ask_1_price', 'bid_ask_ask_1_volume', 'bid_ask_ask_2_price',\n",
       "       'bid_ask_ask_2_volume', 'bid_ask_ask_3_price', 'bid_ask_ask_3_volume'],\n",
       "      dtype='object')"
      ]
     },
     "execution_count": 30,
     "metadata": {},
     "output_type": "execute_result"
    }
   ],
   "source": [
    "df.columns"
   ]
  },
  {
   "cell_type": "code",
   "execution_count": null,
   "id": "4384f677",
   "metadata": {},
   "outputs": [],
   "source": []
  }
 ],
 "metadata": {
  "kernelspec": {
   "display_name": "airflow",
   "language": "python",
   "name": "python3"
  },
  "language_info": {
   "codemirror_mode": {
    "name": "ipython",
    "version": 3
   },
   "file_extension": ".py",
   "mimetype": "text/x-python",
   "name": "python",
   "nbconvert_exporter": "python",
   "pygments_lexer": "ipython3",
   "version": "3.10.0"
  }
 },
 "nbformat": 4,
 "nbformat_minor": 5
}
